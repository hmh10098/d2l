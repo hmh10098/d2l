{
  "nbformat": 4,
  "nbformat_minor": 0,
  "metadata": {
    "colab": {
      "name": "5_2_Parameter_Management.ipynb",
      "provenance": [],
      "authorship_tag": "ABX9TyO+UVpjGXsqoYH0lA+F9vQG",
      "include_colab_link": true
    },
    "kernelspec": {
      "name": "python3",
      "display_name": "Python 3"
    },
    "language_info": {
      "name": "python"
    }
  },
  "cells": [
    {
      "cell_type": "markdown",
      "metadata": {
        "id": "view-in-github",
        "colab_type": "text"
      },
      "source": [
        "<a href=\"https://colab.research.google.com/github/hmh10098/d2l/blob/main/5_2_Parameter_Management.ipynb\" target=\"_parent\"><img src=\"https://colab.research.google.com/assets/colab-badge.svg\" alt=\"Open In Colab\"/></a>"
      ]
    },
    {
      "cell_type": "code",
      "metadata": {
        "id": "ZX1UJYot81tZ"
      },
      "source": [
        "import torch\n",
        "from torch import nn"
      ],
      "execution_count": 1,
      "outputs": []
    },
    {
      "cell_type": "code",
      "metadata": {
        "id": "fwc_yAoG9R3k"
      },
      "source": [
        "net = nn.Sequential(nn.Linear(4, 8), nn.ReLU(), nn.Linear(8, 1))\n",
        "X = torch.rand(2, 4)"
      ],
      "execution_count": 41,
      "outputs": []
    },
    {
      "cell_type": "code",
      "metadata": {
        "colab": {
          "base_uri": "https://localhost:8080/"
        },
        "id": "hdFt4t4n9hPg",
        "outputId": "dc12fb0a-dc40-4611-bd95-0dfef41285c9"
      },
      "source": [
        "net(X)"
      ],
      "execution_count": 42,
      "outputs": [
        {
          "output_type": "execute_result",
          "data": {
            "text/plain": [
              "tensor([[0.2009],\n",
              "        [0.3172]], grad_fn=<AddmmBackward>)"
            ]
          },
          "metadata": {},
          "execution_count": 42
        }
      ]
    },
    {
      "cell_type": "code",
      "metadata": {
        "colab": {
          "base_uri": "https://localhost:8080/"
        },
        "id": "zGvs05ZM9jpA",
        "outputId": "b3296c3f-6f74-49bc-8d7e-d48c22dfcecc"
      },
      "source": [
        "net[0].state_dict()"
      ],
      "execution_count": 8,
      "outputs": [
        {
          "output_type": "execute_result",
          "data": {
            "text/plain": [
              "OrderedDict([('weight', tensor([[-0.0082, -0.4899, -0.4838, -0.0246],\n",
              "                      [-0.2353,  0.0798, -0.0892, -0.2580],\n",
              "                      [ 0.3217,  0.2536,  0.2998, -0.1407],\n",
              "                      [-0.2462, -0.1438,  0.2770, -0.1385],\n",
              "                      [ 0.3223, -0.4210, -0.3890, -0.1851],\n",
              "                      [ 0.1834, -0.2970,  0.1929,  0.4921],\n",
              "                      [-0.0509, -0.1727, -0.4528, -0.4975],\n",
              "                      [-0.1397, -0.2732,  0.0072,  0.3466]])),\n",
              "             ('bias',\n",
              "              tensor([ 0.2804, -0.1825, -0.4707,  0.0516,  0.3236, -0.3558, -0.0218,  0.2846]))])"
            ]
          },
          "metadata": {},
          "execution_count": 8
        }
      ]
    },
    {
      "cell_type": "code",
      "metadata": {
        "colab": {
          "base_uri": "https://localhost:8080/"
        },
        "id": "YgPLC9gc-cH4",
        "outputId": "470618b7-9bcc-4bd8-be63-9f3a2c05739c"
      },
      "source": [
        "net[1].state_dict()"
      ],
      "execution_count": 9,
      "outputs": [
        {
          "output_type": "execute_result",
          "data": {
            "text/plain": [
              "OrderedDict()"
            ]
          },
          "metadata": {},
          "execution_count": 9
        }
      ]
    },
    {
      "cell_type": "code",
      "metadata": {
        "colab": {
          "base_uri": "https://localhost:8080/"
        },
        "id": "9-YMd1zb9rqZ",
        "outputId": "695fede9-ecae-439a-b3f6-dea13d77607f"
      },
      "source": [
        "net[2].state_dict()"
      ],
      "execution_count": 10,
      "outputs": [
        {
          "output_type": "execute_result",
          "data": {
            "text/plain": [
              "OrderedDict([('weight',\n",
              "              tensor([[-0.2968, -0.2430,  0.2139,  0.1405,  0.3342,  0.0851, -0.0116,  0.2667]])),\n",
              "             ('bias', tensor([-0.0168]))])"
            ]
          },
          "metadata": {},
          "execution_count": 10
        }
      ]
    },
    {
      "cell_type": "code",
      "metadata": {
        "colab": {
          "base_uri": "https://localhost:8080/"
        },
        "id": "7_CWVfEh-hIh",
        "outputId": "22464fa1-63e6-4e6c-cc25-2a16269764f0"
      },
      "source": [
        "print(type(net[2].bias))\n",
        "print(net[2].bias)\n",
        "print(net[2].bias.data)"
      ],
      "execution_count": 12,
      "outputs": [
        {
          "output_type": "stream",
          "name": "stdout",
          "text": [
            "<class 'torch.nn.parameter.Parameter'>\n",
            "Parameter containing:\n",
            "tensor([-0.0168], requires_grad=True)\n",
            "tensor([-0.0168])\n"
          ]
        }
      ]
    },
    {
      "cell_type": "code",
      "metadata": {
        "colab": {
          "base_uri": "https://localhost:8080/"
        },
        "id": "1aqqvUNm-mdx",
        "outputId": "22367e74-b083-4456-f935-707e24001cbd"
      },
      "source": [
        "net[2].weight.grad == None"
      ],
      "execution_count": 14,
      "outputs": [
        {
          "output_type": "execute_result",
          "data": {
            "text/plain": [
              "True"
            ]
          },
          "metadata": {},
          "execution_count": 14
        }
      ]
    },
    {
      "cell_type": "code",
      "metadata": {
        "colab": {
          "base_uri": "https://localhost:8080/"
        },
        "id": "y7VHqFve-8xE",
        "outputId": "e1947daf-4b54-48b2-c8bc-468b3d1ca961"
      },
      "source": [
        "print(*[(name, param.shape) for name, param in net[0].named_parameters()])"
      ],
      "execution_count": 21,
      "outputs": [
        {
          "output_type": "stream",
          "name": "stdout",
          "text": [
            "('weight', torch.Size([8, 4])) ('bias', torch.Size([8]))\n"
          ]
        }
      ]
    },
    {
      "cell_type": "code",
      "metadata": {
        "colab": {
          "base_uri": "https://localhost:8080/"
        },
        "id": "NKNNX_KW_u9d",
        "outputId": "da49ca80-bb19-4b77-a628-a9f9abcd6c57"
      },
      "source": [
        "print(*[(name, param.shape) for name, param in net.named_parameters()])"
      ],
      "execution_count": 22,
      "outputs": [
        {
          "output_type": "stream",
          "name": "stdout",
          "text": [
            "('0.weight', torch.Size([8, 4])) ('0.bias', torch.Size([8])) ('2.weight', torch.Size([1, 8])) ('2.bias', torch.Size([1]))\n"
          ]
        }
      ]
    },
    {
      "cell_type": "code",
      "metadata": {
        "colab": {
          "base_uri": "https://localhost:8080/"
        },
        "id": "OX7OlMbIAEtO",
        "outputId": "3b59a5e1-6732-4bd6-cb47-8aa2ee7031b1"
      },
      "source": [
        "net.state_dict()['2.bias'].data"
      ],
      "execution_count": 23,
      "outputs": [
        {
          "output_type": "execute_result",
          "data": {
            "text/plain": [
              "tensor([-0.0168])"
            ]
          },
          "metadata": {},
          "execution_count": 23
        }
      ]
    },
    {
      "cell_type": "code",
      "metadata": {
        "colab": {
          "base_uri": "https://localhost:8080/"
        },
        "id": "ZgW2g5zjALmE",
        "outputId": "42a4e41f-0a90-4272-e6fc-e4167c0f974e"
      },
      "source": [
        "def block1():\n",
        "    return nn.Sequential(nn.Linear(4, 8), nn.ReLU(), nn.Linear(8, 4),\n",
        "                         nn.ReLU())\n",
        "\n",
        "def block2():\n",
        "    net = nn.Sequential()\n",
        "    for i in range(4):\n",
        "        net.add_module(f'block {i}', block1())\n",
        "    return net\n",
        "\n",
        "rgnet = nn.Sequential(block2(), nn.Linear(4, 1))\n",
        "rgnet(X)"
      ],
      "execution_count": 24,
      "outputs": [
        {
          "output_type": "execute_result",
          "data": {
            "text/plain": [
              "tensor([[0.0742],\n",
              "        [0.0743]], grad_fn=<AddmmBackward>)"
            ]
          },
          "metadata": {},
          "execution_count": 24
        }
      ]
    },
    {
      "cell_type": "code",
      "metadata": {
        "colab": {
          "base_uri": "https://localhost:8080/"
        },
        "id": "VSTC9myaCApV",
        "outputId": "a675ab35-82a9-4a88-886f-2cfe967d71ac"
      },
      "source": [
        "print(rgnet)"
      ],
      "execution_count": 25,
      "outputs": [
        {
          "output_type": "stream",
          "name": "stdout",
          "text": [
            "Sequential(\n",
            "  (0): Sequential(\n",
            "    (block 0): Sequential(\n",
            "      (0): Linear(in_features=4, out_features=8, bias=True)\n",
            "      (1): ReLU()\n",
            "      (2): Linear(in_features=8, out_features=4, bias=True)\n",
            "      (3): ReLU()\n",
            "    )\n",
            "    (block 1): Sequential(\n",
            "      (0): Linear(in_features=4, out_features=8, bias=True)\n",
            "      (1): ReLU()\n",
            "      (2): Linear(in_features=8, out_features=4, bias=True)\n",
            "      (3): ReLU()\n",
            "    )\n",
            "    (block 2): Sequential(\n",
            "      (0): Linear(in_features=4, out_features=8, bias=True)\n",
            "      (1): ReLU()\n",
            "      (2): Linear(in_features=8, out_features=4, bias=True)\n",
            "      (3): ReLU()\n",
            "    )\n",
            "    (block 3): Sequential(\n",
            "      (0): Linear(in_features=4, out_features=8, bias=True)\n",
            "      (1): ReLU()\n",
            "      (2): Linear(in_features=8, out_features=4, bias=True)\n",
            "      (3): ReLU()\n",
            "    )\n",
            "  )\n",
            "  (1): Linear(in_features=4, out_features=1, bias=True)\n",
            ")\n"
          ]
        }
      ]
    },
    {
      "cell_type": "code",
      "metadata": {
        "colab": {
          "base_uri": "https://localhost:8080/"
        },
        "id": "nBL5i-7ZCBzt",
        "outputId": "d5e9c54d-2926-47da-bfc3-b8b9bb53e268"
      },
      "source": [
        "rgnet[0][1][0].bias.data\n",
        "print(*[(name, param.shape) for name, param in rgnet.named_parameters()])\n",
        "## two way to get data, compare them \n",
        "print(rgnet.state_dict()['0.block 1.0.bias'].data == rgnet[0][1][0].bias.data)"
      ],
      "execution_count": 30,
      "outputs": [
        {
          "output_type": "stream",
          "name": "stdout",
          "text": [
            "('0.block 0.0.weight', torch.Size([8, 4])) ('0.block 0.0.bias', torch.Size([8])) ('0.block 0.2.weight', torch.Size([4, 8])) ('0.block 0.2.bias', torch.Size([4])) ('0.block 1.0.weight', torch.Size([8, 4])) ('0.block 1.0.bias', torch.Size([8])) ('0.block 1.2.weight', torch.Size([4, 8])) ('0.block 1.2.bias', torch.Size([4])) ('0.block 2.0.weight', torch.Size([8, 4])) ('0.block 2.0.bias', torch.Size([8])) ('0.block 2.2.weight', torch.Size([4, 8])) ('0.block 2.2.bias', torch.Size([4])) ('0.block 3.0.weight', torch.Size([8, 4])) ('0.block 3.0.bias', torch.Size([8])) ('0.block 3.2.weight', torch.Size([4, 8])) ('0.block 3.2.bias', torch.Size([4])) ('1.weight', torch.Size([1, 4])) ('1.bias', torch.Size([1]))\n",
            "tensor([True, True, True, True, True, True, True, True])\n"
          ]
        }
      ]
    },
    {
      "cell_type": "code",
      "metadata": {
        "colab": {
          "base_uri": "https://localhost:8080/"
        },
        "id": "OKuwVWIrCaO4",
        "outputId": "dc48fcea-4b5b-40ab-df7e-50e7075ea1d4"
      },
      "source": [
        "def init_normal(m):\n",
        "  if type(m) == nn.Linear:\n",
        "    nn.init.normal_(m.weight, mean=0, std=0.01)\n",
        "    nn.init.zeros_(m.bias)\n",
        "\n",
        "net.apply(init_normal)\n",
        "net(X)"
      ],
      "execution_count": 43,
      "outputs": [
        {
          "output_type": "execute_result",
          "data": {
            "text/plain": [
              "tensor([[-6.4436e-05],\n",
              "        [-1.8399e-04]], grad_fn=<AddmmBackward>)"
            ]
          },
          "metadata": {},
          "execution_count": 43
        }
      ]
    },
    {
      "cell_type": "code",
      "metadata": {
        "colab": {
          "base_uri": "https://localhost:8080/"
        },
        "id": "gBnmJN18FK-v",
        "outputId": "9f87c2b6-d142-4838-91a8-9c9a28b24934"
      },
      "source": [
        "def init_normal(m):\n",
        "  if type(m) == nn.Linear:\n",
        "    nn.init.constant_(m.weight, 1)\n",
        "    nn.init.zeros_(m.bias)\n",
        "net.apply(init_normal)\n",
        "net(X)"
      ],
      "execution_count": 48,
      "outputs": [
        {
          "output_type": "execute_result",
          "data": {
            "text/plain": [
              "tensor([[ 5.1558],\n",
              "        [18.6823]], grad_fn=<AddmmBackward>)"
            ]
          },
          "metadata": {},
          "execution_count": 48
        }
      ]
    },
    {
      "cell_type": "code",
      "metadata": {
        "colab": {
          "base_uri": "https://localhost:8080/"
        },
        "id": "o_cJR_ldFRYZ",
        "outputId": "216e9ff6-525b-4faf-d9b1-a85d80896e23"
      },
      "source": [
        "net[2].weight"
      ],
      "execution_count": 50,
      "outputs": [
        {
          "output_type": "execute_result",
          "data": {
            "text/plain": [
              "Parameter containing:\n",
              "tensor([[1., 1., 1., 1., 1., 1., 1., 1.]], requires_grad=True)"
            ]
          },
          "metadata": {},
          "execution_count": 50
        }
      ]
    },
    {
      "cell_type": "code",
      "metadata": {
        "colab": {
          "base_uri": "https://localhost:8080/"
        },
        "id": "iwRWcFB1GODc",
        "outputId": "d3a0c308-d107-48e5-9ff7-5e2978542b70"
      },
      "source": [
        "def xavier(m):\n",
        "    if type(m) == nn.Linear:\n",
        "        nn.init.xavier_uniform_(m.weight)\n",
        "\n",
        "def init_42(m):\n",
        "    if type(m) == nn.Linear:\n",
        "        nn.init.constant_(m.weight, 42)\n",
        "\n",
        "net[0].apply(xavier)\n",
        "net[2].apply(init_42)\n",
        "print(net[0].weight.data[0])\n",
        "print(net[2].weight.data)"
      ],
      "execution_count": 51,
      "outputs": [
        {
          "output_type": "stream",
          "name": "stdout",
          "text": [
            "tensor([-0.5883, -0.5034, -0.3582, -0.3457])\n",
            "tensor([[42., 42., 42., 42., 42., 42., 42., 42.]])\n"
          ]
        }
      ]
    },
    {
      "cell_type": "code",
      "metadata": {
        "colab": {
          "base_uri": "https://localhost:8080/"
        },
        "id": "yNY5O8mDGeFf",
        "outputId": "c0583b45-364a-4a60-a23b-2795fa1a7d47"
      },
      "source": [
        "def my_init(m):\n",
        "    if type(m) == nn.Linear:\n",
        "        print(\n",
        "            \"Init\",\n",
        "            *[(name, param.shape) for name, param in m.named_parameters()][0])\n",
        "        nn.init.uniform_(m.weight, -10, 10)\n",
        "        m.weight.data *= m.weight.data.abs() >= 5\n",
        "\n",
        "net.apply(my_init)\n",
        "net[0].weight"
      ],
      "execution_count": 53,
      "outputs": [
        {
          "output_type": "stream",
          "name": "stdout",
          "text": [
            "Init weight torch.Size([8, 4])\n",
            "Init weight torch.Size([1, 8])\n"
          ]
        },
        {
          "output_type": "execute_result",
          "data": {
            "text/plain": [
              "Parameter containing:\n",
              "tensor([[-7.3735, -5.1310,  0.0000, -8.1037],\n",
              "        [ 0.0000, -0.0000, -0.0000, -0.0000],\n",
              "        [ 0.0000, -0.0000, -0.0000, -6.3452],\n",
              "        [-8.6255,  0.0000,  7.0919, -5.4661],\n",
              "        [-5.7562,  9.4430, -9.1966,  0.0000],\n",
              "        [-0.0000, -7.0008,  5.6787,  5.1963],\n",
              "        [ 9.5823,  9.2447, -7.3514, -5.6011],\n",
              "        [ 9.3772,  0.0000, -8.4972, -6.2785]], requires_grad=True)"
            ]
          },
          "metadata": {},
          "execution_count": 53
        }
      ]
    },
    {
      "cell_type": "code",
      "metadata": {
        "colab": {
          "base_uri": "https://localhost:8080/"
        },
        "id": "06b7HDbGGeM7",
        "outputId": "62550ba6-e298-4bde-8ffd-72f0ca052b4d"
      },
      "source": [
        "net[0].weight.data[:] += 1\n",
        "net[0].weight.data[0, 0] = 42\n",
        "net[0].weight.data[0]"
      ],
      "execution_count": 54,
      "outputs": [
        {
          "output_type": "execute_result",
          "data": {
            "text/plain": [
              "tensor([42.0000, -4.1310,  1.0000, -7.1037])"
            ]
          },
          "metadata": {},
          "execution_count": 54
        }
      ]
    },
    {
      "cell_type": "code",
      "metadata": {
        "id": "MZ-8E6E8Iyja"
      },
      "source": [
        "shared = nn.Linear(8, 8)\n",
        "net = nn.Sequential(nn.Linear(4,8), nn.ReLU(), shared, nn.ReLU(), shared, nn.ReLU(), nn.Linear(8, 1))"
      ],
      "execution_count": 56,
      "outputs": []
    },
    {
      "cell_type": "code",
      "metadata": {
        "colab": {
          "base_uri": "https://localhost:8080/"
        },
        "id": "tnc4FdJLLLZs",
        "outputId": "c5cb97f0-e6b0-4254-a77a-c35f4277b532"
      },
      "source": [
        "net(X)\n"
      ],
      "execution_count": 57,
      "outputs": [
        {
          "output_type": "execute_result",
          "data": {
            "text/plain": [
              "tensor([[0.3295],\n",
              "        [0.3503]], grad_fn=<AddmmBackward>)"
            ]
          },
          "metadata": {},
          "execution_count": 57
        }
      ]
    },
    {
      "cell_type": "code",
      "metadata": {
        "colab": {
          "base_uri": "https://localhost:8080/"
        },
        "id": "FpixIyO2LQfb",
        "outputId": "3799fc91-16dd-4940-e921-3623eaf0640c"
      },
      "source": [
        "print(net[2].weight.data == net[4].weight.data)"
      ],
      "execution_count": 58,
      "outputs": [
        {
          "output_type": "stream",
          "name": "stdout",
          "text": [
            "tensor([[True, True, True, True, True, True, True, True],\n",
            "        [True, True, True, True, True, True, True, True],\n",
            "        [True, True, True, True, True, True, True, True],\n",
            "        [True, True, True, True, True, True, True, True],\n",
            "        [True, True, True, True, True, True, True, True],\n",
            "        [True, True, True, True, True, True, True, True],\n",
            "        [True, True, True, True, True, True, True, True],\n",
            "        [True, True, True, True, True, True, True, True]])\n"
          ]
        }
      ]
    },
    {
      "cell_type": "code",
      "metadata": {
        "colab": {
          "base_uri": "https://localhost:8080/"
        },
        "id": "m0hmeRYWLXNz",
        "outputId": "fe54b1b0-9483-4be4-9b85-9105538507b2"
      },
      "source": [
        "net[2].weight.data[0, 0] = 100\n",
        "print(net[2].weight.data[0] == net[4].weight.data[0])\n"
      ],
      "execution_count": 60,
      "outputs": [
        {
          "output_type": "stream",
          "name": "stdout",
          "text": [
            "tensor([True, True, True, True, True, True, True, True])\n"
          ]
        }
      ]
    },
    {
      "cell_type": "code",
      "metadata": {
        "id": "WsnlsVYQLfzL"
      },
      "source": [
        ""
      ],
      "execution_count": null,
      "outputs": []
    }
  ]
}